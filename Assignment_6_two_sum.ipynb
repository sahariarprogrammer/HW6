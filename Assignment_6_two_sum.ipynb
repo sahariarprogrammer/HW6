{
 "cells": [
  {
   "cell_type": "markdown",
   "id": "ad86fccf",
   "metadata": {},
   "source": [
    "two-sum/using dictionary concept"
   ]
  },
  {
   "cell_type": "code",
   "execution_count": 1,
   "id": "61d408a1",
   "metadata": {},
   "outputs": [
    {
     "name": "stdout",
     "output_type": "stream",
     "text": [
      "the key value dictionary pair for the target is {2: 0, 7: 1}\n",
      "the key value dictionary pair for the target is {2: 1, 4: 2}\n",
      "the key value dictionary pair for the target is {3: 0, 10: 1}\n"
     ]
    }
   ],
   "source": [
    "\n",
    "def fun(nums,target):\n",
    "    li=[]\n",
    "    newdict={}\n",
    "    for k,v in nums.items():\n",
    "        li.append(k)\n",
    "    for i in range(len(li)):\n",
    "        \n",
    "        sum=li[i]+li[i+1]\n",
    "        if sum==target:\n",
    "            newdict[li[i]]=i\n",
    "            newdict[li[i+1]]=i+1\n",
    "            return newdict\n",
    "            exit()\n",
    "        sum=0\n",
    "print(f\"the key value dictionary pair for the target is {fun({2:0,7:1,11:2,15:3},9)}\")\n",
    "print(f\"the key value dictionary pair for the target is {fun({3:0,2:1,4:2},6)}\")\n",
    "print(f\"the key value dictionary pair for the target is {fun({3:0,10:1},13)}\")"
   ]
  }
 ],
 "metadata": {
  "kernelspec": {
   "display_name": "Python 3",
   "language": "python",
   "name": "python3"
  },
  "language_info": {
   "codemirror_mode": {
    "name": "ipython",
    "version": 3
   },
   "file_extension": ".py",
   "mimetype": "text/x-python",
   "name": "python",
   "nbconvert_exporter": "python",
   "pygments_lexer": "ipython3",
   "version": "3.8.8"
  }
 },
 "nbformat": 4,
 "nbformat_minor": 5
}
